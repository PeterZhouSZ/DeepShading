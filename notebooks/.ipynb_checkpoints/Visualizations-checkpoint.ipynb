{
 "cells": [
  {
   "cell_type": "code",
   "execution_count": 1,
   "metadata": {
    "collapsed": true
   },
   "outputs": [],
   "source": [
    "import pandas as pd\n",
    "import numpy as np\n",
    "import matplotlib.pyplot as plt\n",
    "import seaborn as sns\n",
    "sns.set_style(\"darkgrid\")"
   ]
  },
  {
   "cell_type": "code",
   "execution_count": 2,
   "metadata": {},
   "outputs": [
    {
     "data": {
      "text/html": [
       "<div>\n",
       "<style scoped>\n",
       "    .dataframe tbody tr th:only-of-type {\n",
       "        vertical-align: middle;\n",
       "    }\n",
       "\n",
       "    .dataframe tbody tr th {\n",
       "        vertical-align: top;\n",
       "    }\n",
       "\n",
       "    .dataframe thead th {\n",
       "        text-align: right;\n",
       "    }\n",
       "</style>\n",
       "<table border=\"1\" class=\"dataframe\">\n",
       "  <thead>\n",
       "    <tr style=\"text-align: right;\">\n",
       "      <th></th>\n",
       "      <th>epoch</th>\n",
       "      <th>loss</th>\n",
       "      <th>val_loss</th>\n",
       "    </tr>\n",
       "  </thead>\n",
       "  <tbody>\n",
       "    <tr>\n",
       "      <th>0</th>\n",
       "      <td>0</td>\n",
       "      <td>0.084963</td>\n",
       "      <td>0.027087</td>\n",
       "    </tr>\n",
       "    <tr>\n",
       "      <th>1</th>\n",
       "      <td>1</td>\n",
       "      <td>0.015304</td>\n",
       "      <td>0.017322</td>\n",
       "    </tr>\n",
       "    <tr>\n",
       "      <th>2</th>\n",
       "      <td>2</td>\n",
       "      <td>0.011569</td>\n",
       "      <td>0.015338</td>\n",
       "    </tr>\n",
       "    <tr>\n",
       "      <th>3</th>\n",
       "      <td>3</td>\n",
       "      <td>0.010718</td>\n",
       "      <td>0.014528</td>\n",
       "    </tr>\n",
       "    <tr>\n",
       "      <th>4</th>\n",
       "      <td>4</td>\n",
       "      <td>0.012545</td>\n",
       "      <td>0.015279</td>\n",
       "    </tr>\n",
       "  </tbody>\n",
       "</table>\n",
       "</div>"
      ],
      "text/plain": [
       "   epoch      loss  val_loss\n",
       "0      0  0.084963  0.027087\n",
       "1      1  0.015304  0.017322\n",
       "2      2  0.011569  0.015338\n",
       "3      3  0.010718  0.014528\n",
       "4      4  0.012545  0.015279"
      ]
     },
     "execution_count": 2,
     "metadata": {},
     "output_type": "execute_result"
    }
   ],
   "source": [
    "df = pd.read_csv('../results/logs/res_deep_shading_batch_normalization__epochs_12__lr_9e-05__loss_l2_loss__2018-11-14 19:04:27.615671_training.log', delimiter=',')\n",
    "df.head()"
   ]
  },
  {
   "cell_type": "markdown",
   "metadata": {
    "collapsed": true
   },
   "source": [
    "# Visualize Loss"
   ]
  },
  {
   "cell_type": "code",
   "execution_count": 3,
   "metadata": {},
   "outputs": [
    {
     "data": {
      "image/png": "[encoded data removed]",
      "text/plain": [
       "<Figure size 432x288 with 1 Axes>"
      ]
     },
     "metadata": {},
     "output_type": "display_data"
    }
   ],
   "source": [
    "ax = plt.gca()\n",
    "ax.set_xmargin(0)\n",
    "ax.set_ymargin(0)\n",
    "plt.plot(df['epoch'], df['loss'], label=\"Train Loss\")\n",
    "plt.plot(df['epoch'], df['val_loss'], label=\"Validation Loss\")\n",
    "plt.legend()\n",
    "plt.title('Train and Validation Loss')\n",
    "plt.xlabel('Epoch')\n",
    "plt.ylabel('Loss')\n",
    "plt.show()"
   ]
  },
  {
   "cell_type": "markdown",
   "metadata": {},
   "source": [
    "# Visualize Final Result"
   ]
  },
  {
   "cell_type": "code",
   "execution_count": 1,
   "metadata": {
    "scrolled": true
   },
   "outputs": [],
   "source": [
    "import numpy as np\n",
    "import tensorflow as tf\n",
    "from tensorflow import keras\n",
    "import pyexr\n",
    "import matplotlib.pyplot as plt\n",
    "import os\n",
    "\n",
    "def load_model(model_dir):\n",
    "    json_file = open(os.path.join('../results/models/', model_dir) + '.json', 'r')\n",
    "    loaded_model_json = json_file.read()\n",
    "    json_file.close()\n",
    "    loaded_model = keras.models.model_from_json(loaded_model_json)\n",
    "    loaded_model.load_weights(os.path.join('../results/models/', model_dir) + '.h5')\n",
    "    \n",
    "    loaded_model.compile(optimizer=tf.train.AdamOptimizer(0.0001),\n",
    "              loss='mean_squared_error',\n",
    "              metrics=['accuracy'])\n",
    "    \n",
    "    return loaded_model\n"
   ]
  },
  {
   "cell_type": "code",
   "execution_count": 2,
   "metadata": {},
   "outputs": [],
   "source": [
    "original_model_l2 = load_model('deep_shading_batch_normalization_full__epochs_15__lr_9e-05__loss_l2_loss__2018-11-19 15:10:17.860775_model')\n",
    "\n",
    "original_model_l1 = load_model('deep_shading__lr_9e-05__loss_l1_loss__2018-11-13 21:02:56.132495_model')\n",
    "        \n",
    "pyramid_model = load_model('pyramid_res_deep_shading_batch_normalization_full__epochs_15__lr_9e-05__loss_l2_loss__2018-11-16 21:59:48.286878_model')"
   ]
  },
  {
   "cell_type": "code",
   "execution_count": 44,
   "metadata": {},
   "outputs": [
    {
     "name": "stdout",
     "output_type": "stream",
     "text": [
      "[INFO] Batch Shape (1, 512, 512, 6)\n"
     ]
    }
   ],
   "source": [
    "TESTDATA_DIR = '/media/marcelsantos/DATA/DeepShadingTestImages/'\n",
    "VALIDATIONDATA_DIR = '/media/marcelsantos/DATA/DeepShadingValidationImages/'\n",
    "FILE_NAME = '0000000005.exr'\n",
    "SET = 'TestBears'\n",
    "\n",
    "# Evaluate loaded model on test data.\n",
    "normal_image = pyexr.read_all(TESTDATA_DIR + SET + '/Normals/' + FILE_NAME)['default'][:,:,0:3]\n",
    "position_image = pyexr.read_all(TESTDATA_DIR + SET  + '/Position/'+ FILE_NAME)['default'][:,:,0:3]\n",
    "input_image = np.dstack([normal_image, position_image])\n",
    "\n",
    "batch = np.expand_dims(input_image, axis=0)\n",
    "\n",
    "print('[INFO] Batch Shape', batch.shape)"
   ]
  },
  {
   "cell_type": "markdown",
   "metadata": {},
   "source": [
    "# Pyramid Model"
   ]
  },
  {
   "cell_type": "code",
   "execution_count": 45,
   "metadata": {},
   "outputs": [],
   "source": [
    "OUTPUT_NAME =  'pyramid_l2_' + SET + FILE_NAME\n",
    "data = pyramid_model.predict(batch, 1)[0]\n",
    "\n",
    "result = np.expand_dims(data[:,:,0], axis=2)\n",
    "result = np.dstack([result, result, result, np.ones_like(result)])\n",
    "pyexr.write(os.path.join('../results/images', OUTPUT_NAME), result)"
   ]
  },
  {
   "cell_type": "markdown",
   "metadata": {
    "collapsed": true
   },
   "source": [
    "# Original Model L2"
   ]
  },
  {
   "cell_type": "code",
   "execution_count": 46,
   "metadata": {},
   "outputs": [],
   "source": [
    "OUTPUT_NAME =  'original_model_l2_' + SET + FILE_NAME\n",
    "data = original_model_l2.predict(batch, 1)[0]\n",
    "\n",
    "result = np.expand_dims(data[:,:,0], axis=2)\n",
    "result = np.dstack([result, result, result, np.ones_like(result)])\n",
    "pyexr.write(os.path.join('../results/images', OUTPUT_NAME), result)"
   ]
  },
  {
   "cell_type": "markdown",
   "metadata": {
    "collapsed": true
   },
   "source": [
    "# Orginal Model L1"
   ]
  },
  {
   "cell_type": "code",
   "execution_count": 47,
   "metadata": {},
   "outputs": [],
   "source": [
    "OUTPUT_NAME =  'original_model_l1_' + SET + FILE_NAME\n",
    "data = original_model_l1.predict(batch, 1)[0]\n",
    "\n",
    "result = np.expand_dims(data[:,:,0], axis=2)\n",
    "result = np.dstack([result, result, result, np.ones_like(result)])\n",
    "pyexr.write(os.path.join('../results/images', OUTPUT_NAME), result)"
   ]
  },
  {
   "cell_type": "markdown",
   "metadata": {},
   "source": [
    "# Compare SSIM"
   ]
  },
  {
   "cell_type": "code",
   "execution_count": 53,
   "metadata": {},
   "outputs": [],
   "source": [
    "from skimage.measure import compare_ssim as ssim\n",
    "from skimage.measure import compare_mse as mse"
   ]
  },
  {
   "cell_type": "code",
   "execution_count": 96,
   "metadata": {},
   "outputs": [],
   "source": [
    "TESTDATA_DIR = '/media/marcelsantos/DATA/DeepShadingTestImages/'\n",
    "VALIDATIONDATA_DIR = '/media/marcelsantos/DATA/DeepShadingValidationImages/'\n",
    "FILE_NAME = '0000000015.exr'\n",
    "SET = 'TestCheese'\n",
    "\n",
    "gt = pyexr.read_all(VALIDATIONDATA_DIR + SET + '/GroundTruth/' + FILE_NAME)['default'][:,:,0:3]\n",
    "original_model_l1 = pyexr.read_all(os.path.join('../results/images', 'original_model_l1_' + SET + FILE_NAME))['default'][:,:,0:3]\n",
    "original_model_l2 = pyexr.read_all(os.path.join('../results/images', 'original_model_l2_' + SET + FILE_NAME))['default'][:,:,0:3]\n",
    "pyramid_model_l2  = pyexr.read_all(os.path.join('../results/images', 'pyramid_l2_' + SET + FILE_NAME))['default'][:,:,0:3]\n",
    "\n",
    "original_model_l1_ssim = ssim(original_model_l1, gt, multichannel=True)\n",
    "original_model_l2_ssim = ssim(original_model_l2, gt, multichannel=True)\n",
    "pyramid_model_l2_ssim = ssim(pyramid_model_l2, gt, multichannel=True)\n",
    "\n",
    "original_model_l1_mse = mse(original_model_l1, gt)\n",
    "original_model_l2_mse = mse(original_model_l2, gt)\n",
    "pyramid_model_l2_mse = mse(pyramid_model_l2, gt)\n",
    "\n",
    "output =  \"original_model_l1_ssim = {}\\n\"\\\n",
    "          \"original_model_l2_ssim = {}\\n\"\\\n",
    "          \"pyramid_model_l2_ssim = {}\\n\\n\"\\\n",
    "          \"original_model_l1_mse = {}\\n\" \\\n",
    "          \"original_model_l2_mse = {}\\n\" \\\n",
    "          \"pyramid_model_l2_mse = {}\".format(original_model_l1_ssim, original_model_l2_ssim, pyramid_model_l2_ssim,\n",
    "                                            original_model_l1_mse, original_model_l2_mse, pyramid_model_l2_mse)"
   ]
  },
  {
   "cell_type": "code",
   "execution_count": 97,
   "metadata": {},
   "outputs": [
    {
     "name": "stdout",
     "output_type": "stream",
     "text": [
      "original_model_l1_ssim = 0.8625339795080564\n",
      "original_model_l2_ssim = 0.8687917827859252\n",
      "pyramid_model_l2_ssim = 0.8789409454337361\n",
      "\n",
      "original_model_l1_mse = 0.012157833924482364\n",
      "original_model_l2_mse = 0.012538661529287518\n",
      "pyramid_model_l2_mse = 0.012486986871624237\n"
     ]
    }
   ],
   "source": [
    "print(output)"
   ]
  },
  {
   "cell_type": "code",
   "execution_count": 98,
   "metadata": {},
   "outputs": [],
   "source": [
    "with open(os.path.join('../results/images',SET+os.path.splitext(FILE_NAME)[0]) + \".txt\", \"w\") as text_file:\n",
    "    text_file.write(output)"
   ]
  },
  {
   "cell_type": "code",
   "execution_count": null,
   "metadata": {},
   "outputs": [],
   "source": [
    "plt.imshow(original_model_l1)"
   ]
  }
 ],
 "metadata": {
  "kernelspec": {
   "display_name": "Python 3",
   "language": "python",
   "name": "python3"
  },
  "language_info": {
   "codemirror_mode": {
    "name": "ipython",
    "version": 3
   },
   "file_extension": ".py",
   "mimetype": "text/x-python",
   "name": "python",
   "nbconvert_exporter": "python",
   "pygments_lexer": "ipython3",
   "version": "3.6.5"
  }
 },
 "nbformat": 4,
 "nbformat_minor": 2
}
