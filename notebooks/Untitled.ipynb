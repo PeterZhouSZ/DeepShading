{
 "cells": [
  {
   "cell_type": "code",
   "execution_count": 36,
   "metadata": {},
   "outputs": [],
   "source": [
    "import numpy as np\n",
    "import tensorflow as tf\n",
    "from tensorflow import keras\n",
    "import pyexr\n",
    "import matplotlib.pyplot as plt\n",
    "import os\n",
    "\n",
    "import tensorflow as tf\n",
    "from Model import *"
   ]
  },
  {
   "cell_type": "code",
   "execution_count": 33,
   "metadata": {},
   "outputs": [
    {
     "name": "stdout",
     "output_type": "stream",
     "text": [
      "__________________________________________________________________________________________________\n",
      "Layer (type)                    Output Shape         Param #     Connected to                     \n",
      "==================================================================================================\n",
      "input_33 (InputLayer)           (None, 512, 512, 6)  0                                            \n",
      "__________________________________________________________________________________________________\n",
      "average_pooling2d_14 (AveragePo (None, 256, 256, 6)  0           input_33[0][0]                   \n",
      "__________________________________________________________________________________________________\n",
      "average_pooling2d_15 (AveragePo (None, 128, 128, 6)  0           average_pooling2d_14[0][0]       \n",
      "__________________________________________________________________________________________________\n",
      "model_22 (Model)                multiple             2378977     input_33[0][0]                   \n",
      "                                                                 average_pooling2d_14[0][0]       \n",
      "                                                                 average_pooling2d_15[0][0]       \n",
      "__________________________________________________________________________________________________\n",
      "up_sampling2d_14 (UpSampling2D) (None, 256, 256, 1)  0           model_22[3][0]                   \n",
      "__________________________________________________________________________________________________\n",
      "model_23 (Model)                multiple             33345       model_22[2][0]                   \n",
      "                                                                 up_sampling2d_14[0][0]           \n",
      "                                                                 model_22[1][0]                   \n",
      "                                                                 up_sampling2d_15[0][0]           \n",
      "__________________________________________________________________________________________________\n",
      "up_sampling2d_15 (UpSampling2D) (None, 512, 512, 1)  0           model_23[1][0]                   \n",
      "==================================================================================================\n",
      "Total params: 2,412,322\n",
      "Trainable params: 33,345\n",
      "Non-trainable params: 2,378,977\n",
      "__________________________________________________________________________________________________\n"
     ]
    }
   ],
   "source": [
    "shading_net = ShadingNet(weights_dir='../models/model_2018-09-22 12:25:23.132954.h5')\n",
    "shading_net.trainable=False\n",
    "\n",
    "compositor_net = ScaleWeightPredictor()\n",
    "\n",
    "input_image = keras.Input(shape=(512, 512, 6))\n",
    "down_level_1 = keras.layers.AveragePooling2D()(input_image)\n",
    "down_level_2 = keras.layers.AveragePooling2D()(down_level_1)\n",
    "\n",
    "shading_level_0 = shading_net(input_image)\n",
    "shading_level_1 = shading_net(down_level_1)\n",
    "shading_level_2 = shading_net(down_level_2)\n",
    "\n",
    "shading_level_2_up = keras.layers.UpSampling2D(size=(2, 2))(shading_level_2)\n",
    "compositor_1 = compositor_net([shading_level_1, shading_level_2_up])\n",
    "compositor_0 = keras.layers.UpSampling2D(size=(2, 2))(compositor_1)\n",
    "final = compositor_net([shading_level_0, compositor_0])\n",
    "\n",
    "model = keras.Model(input_image, final)\n",
    "model.summary()"
   ]
  },
  {
   "cell_type": "code",
   "execution_count": 34,
   "metadata": {},
   "outputs": [],
   "source": [
    "model.load_weights('../models/model_multiscale_2018-10-09 18:08:05.192028.h5')"
   ]
  },
  {
   "cell_type": "code",
   "execution_count": 64,
   "metadata": {},
   "outputs": [],
   "source": [
    "intermediate_layer_model = keras.Model(inputs=model.input,\n",
    "                                 outputs=model.get_layer('average_pooling2d_14').output)\n",
    "\n",
    "TESTDATA_DIR = '/media/marcelsantos/StorageDevice/DeepShadingTestImages'\n",
    "VALIDATIONDATA_DIR = '/media/marcelsantos/StorageDevice/DeepShadingValidationImages'\n",
    "FILE_NAME = '0000000004.exr'\n",
    "OUTPUT_NAME = 'Sibenik' + FILE_NAME\n",
    "\n",
    "# Evaluate loaded model on test data.\n",
    "normal_image = pyexr.read_all(VALIDATIONDATA_DIR + '/Sibenik/Normals/' + FILE_NAME)['default'][:,:,0:3]\n",
    "position_image = pyexr.read_all(VALIDATIONDATA_DIR + '/Sibenik/Position/'+ FILE_NAME)['default'][:,:,0:3]\n",
    "input_image = np.dstack([normal_image, position_image])\n",
    "\n",
    "batch = np.expand_dims(input_image, axis=0)\n",
    "intermediate_output = intermediate_layer_model.predict(batch)\n",
    "result = intermediate_output[0,:,:,3:6] "
   ]
  },
  {
   "cell_type": "code",
   "execution_count": 65,
   "metadata": {},
   "outputs": [
    {
     "data": {
      "text/plain": [
       "(256, 256, 3)"
      ]
     },
     "execution_count": 65,
     "metadata": {},
     "output_type": "execute_result"
    }
   ],
   "source": [
    "result.shape"
   ]
  },
  {
   "cell_type": "code",
   "execution_count": 66,
   "metadata": {},
   "outputs": [
    {
     "data": {
      "image/png": "[encoded data removed]",
      "text/plain": [
       "<matplotlib.figure.Figure at 0x7f9814103be0>"
      ]
     },
     "metadata": {},
     "output_type": "display_data"
    }
   ],
   "source": [
    "plt.xticks([])\n",
    "plt.yticks([])\n",
    "plt.imshow(result, cmap='gray')\n",
    "plt.show()"
   ]
  },
  {
   "cell_type": "code",
   "execution_count": null,
   "metadata": {
    "collapsed": true
   },
   "outputs": [],
   "source": []
  }
 ],
 "metadata": {
  "kernelspec": {
   "display_name": "Python 3",
   "language": "python",
   "name": "python3"
  },
  "language_info": {
   "codemirror_mode": {
    "name": "ipython",
    "version": 3
   },
   "file_extension": ".py",
   "mimetype": "text/x-python",
   "name": "python",
   "nbconvert_exporter": "python",
   "pygments_lexer": "ipython3",
   "version": "3.6.3"
  }
 },
 "nbformat": 4,
 "nbformat_minor": 2
}
